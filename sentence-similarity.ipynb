{
 "cells": [
  {
   "cell_type": "code",
   "execution_count": 8,
   "metadata": {},
   "outputs": [
    {
     "name": "stdout",
     "output_type": "stream",
     "text": [
      "The best match for the input is: Buscamos una profesional especializado en tecnología con experencia en gestión de proyectos\n"
     ]
    }
   ],
   "source": [
    "from transformers import AutoModel, AutoTokenizer\n",
    "import numpy as np\n",
    "\n",
    "# Step 2: Load the model\n",
    "model_name = \"sentence-transformers/all-mpnet-base-v2\"\n",
    "model = AutoModel.from_pretrained(model_name)\n",
    "\n",
    "# Step 3: Load the pre-trained tokenizer\n",
    "tokenizer = AutoTokenizer.from_pretrained(model_name)\n",
    "\n",
    "# Step 4: Define the sentences to be matched against\n",
    "descriptions = [\n",
    "    \"I like to eat many kinds of food. My favorite cuisines are Indian, Turkish and Vietnamese.\",\n",
    "    \"This sentence is in English but not related to the input. Let's test the model by writing a sentence in Spanish that is related, but in Spanish to see how the model reacts.\",\n",
    "    \"Buscamos una profesional especializado en tecnología con experencia en gestión de proyectos\"\n",
    "]\n",
    "\n",
    "# Step 5: Preprocess the input and descriptions\n",
    "input = \"I am a software engineer with experience in Python and Java.\"\n",
    "description_encodings = tokenizer(descriptions, padding=True, truncation=True, return_tensors=\"pt\")\n",
    "input_encoding = tokenizer(input, padding=True, truncation=True, return_tensors=\"pt\")\n",
    "\n",
    "# Step 6: Generate sentence embeddings for each sentence in the pre-defined  descriptions\n",
    "description_embeddings = model(**description_encodings)[\"pooler_output\"]\n",
    "\n",
    "# Step 7: Generate a sentence embedding for the input\n",
    "input_embedding = model(**input_encoding)[\"pooler_output\"]\n",
    "\n",
    "# Step 8: Compute the cosine similarity between the sentence embedding of the input resume and each sentence embedding of the pre-defined descriptions\n",
    "similarity_scores = np.inner(input_embedding.detach().numpy(), description_embeddings.detach().numpy())[0]\n",
    "\n",
    "# Step 9: Select the  description that has the highest cosine similarity with the input as the best match\n",
    "best_match_index = np.argmax(similarity_scores)\n",
    "best_match = descriptions[best_match_index]\n",
    "\n",
    "print(\"The best match for the input is:\", best_match)\n"
   ]
  },
  {
   "cell_type": "code",
   "execution_count": null,
   "metadata": {},
   "outputs": [],
   "source": []
  }
 ],
 "metadata": {
  "kernelspec": {
   "display_name": "base",
   "language": "python",
   "name": "python3"
  },
  "language_info": {
   "codemirror_mode": {
    "name": "ipython",
    "version": 3
   },
   "file_extension": ".py",
   "mimetype": "text/x-python",
   "name": "python",
   "nbconvert_exporter": "python",
   "pygments_lexer": "ipython3",
   "version": "3.9.12"
  },
  "orig_nbformat": 4
 },
 "nbformat": 4,
 "nbformat_minor": 2
}
